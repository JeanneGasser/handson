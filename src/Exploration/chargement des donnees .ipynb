{
 "cells": [
  {
   "cell_type": "code",
   "execution_count": 1,
   "metadata": {
    "collapsed": true
   },
   "outputs": [],
   "source": [
    "import pandas as pd\n",
    "import numpy as np\n",
    "import datetime\n",
    "import os\n",
    "import json\n",
    "import glob\n",
    "import sqlite3\n",
    "from sklearn.feature_extraction.text import CountVectorizer\n"
   ]
  },
  {
   "cell_type": "code",
   "execution_count": 2,
   "metadata": {
    "collapsed": true
   },
   "outputs": [],
   "source": [
    "with open('../parameters.json') as json_data :\n",
    "    params = json.load(json_data)\n",
    "#Constante souvent mise en majuscule=> nom de dossier, etc.\n",
    "#on assigne les directory aux dossiers qu'on a créé\n",
    "\n",
    "DATA_DIR = params['DIRECTORIES']['DATA_DIR']\n",
    "TMP_DIR = params['DIRECTORIES']['TMP_DIR']    \n",
    "PRICE_FILE = params['FILES']['PRICE_FILE']\n",
    "STATION_FILE = params['FILES']['STATION_FILE']\n",
    "SERVICE_FILE = params['FILES']['SERVICE_FILE']\n",
    "#Autre méthode de lecture, pour éviter d'avoir à remettre os.path.join à chaque fois\n",
    "GAS_DB = os.path.join(DATA_DIR,params['DATABASE']['GAS_DB']) "
   ]
  },
  {
   "cell_type": "code",
   "execution_count": 3,
   "metadata": {},
   "outputs": [
    {
     "data": {
      "text/plain": [
       "{'DATABASE': {'GAS_DB': 'gas.db'},\n",
       " 'DIRECTORIES': {'DATA_DIR': '../../data', 'TMP_DIR': '../../tmp'},\n",
       " 'FILES': {'PRICE_FILE': 'prices.p',\n",
       "  'SERVICE_FILE': 'services.p',\n",
       "  'STATION_FILE': 'stations.p'}}"
      ]
     },
     "execution_count": 3,
     "metadata": {},
     "output_type": "execute_result"
    }
   ],
   "source": [
    "# .. sert à remonter d'un niveau => esquive l'arborescence \n",
    "#Simple verif de ce qu'il y a dans la variable params\n",
    "params"
   ]
  },
  {
   "cell_type": "code",
   "execution_count": 4,
   "metadata": {
    "collapsed": true
   },
   "outputs": [],
   "source": [
    "#On va lire les données depuis le zip file mtnt\n",
    "#on crée des listes \n",
    "#creation automatique de la liste des fichiers\n",
    "gas_files = glob.glob(os.path.join(DATA_DIR,\"Prix*.zip\"))\n",
    "\n",
    "station_files = 'Stations2016.zip'\n",
    "service_files = 'Services2016.zip'"
   ]
  },
  {
   "cell_type": "code",
   "execution_count": 5,
   "metadata": {},
   "outputs": [
    {
     "data": {
      "text/plain": [
       "['../../data\\\\Prix2014.zip',\n",
       " '../../data\\\\Prix2015.zip',\n",
       " '../../data\\\\Prix2016.zip']"
      ]
     },
     "execution_count": 5,
     "metadata": {},
     "output_type": "execute_result"
    }
   ],
   "source": [
    "gas_files"
   ]
  },
  {
   "cell_type": "raw",
   "metadata": {},
   "source": [
    "#Ouverture d'un seul fichier csv:\n",
    "df_2014 = pd.read_csv(os.path.join(DATA_DIR,gas_files[0]),\n",
    "                     sep=';',header = None,dtype ={1:str} )\n",
    "df_2014.columns = ['id_station','code_postal','type_station',\n",
    "                 'latitude','longitude','date_releve',\n",
    "                 'type_carburant','libelle_carburant',\n",
    "                  'prix']"
   ]
  },
  {
   "cell_type": "code",
   "execution_count": 6,
   "metadata": {
    "collapsed": true
   },
   "outputs": [],
   "source": [
    "\n",
    "dfall = pd.DataFrame()\n",
    "for year in gas_files:\n",
    "    df = pd.read_csv(year,\n",
    "                     sep=';',header = None,dtype ={1:str} )\n",
    "    df.columns = ['id_station','code_postal','type_station',\n",
    "                     'latitude','longitude','date_releve',\n",
    "                     'type_carburant','libelle_carburant',\n",
    "                      'prix']\n",
    "    dfall = pd.concat([dfall,df],axis=0)\n",
    "dfall.shape\n",
    "#Si le nombre de colonnes n'est pas égale à 9, on arrête\n",
    "assert dfall.shape[1] == 9, 'Pas le bon nombre de colonnes'"
   ]
  },
  {
   "cell_type": "code",
   "execution_count": 7,
   "metadata": {},
   "outputs": [
    {
     "data": {
      "text/html": [
       "<div>\n",
       "<style>\n",
       "    .dataframe thead tr:only-child th {\n",
       "        text-align: right;\n",
       "    }\n",
       "\n",
       "    .dataframe thead th {\n",
       "        text-align: left;\n",
       "    }\n",
       "\n",
       "    .dataframe tbody tr th {\n",
       "        vertical-align: top;\n",
       "    }\n",
       "</style>\n",
       "<table border=\"1\" class=\"dataframe\">\n",
       "  <thead>\n",
       "    <tr style=\"text-align: right;\">\n",
       "      <th></th>\n",
       "      <th>id_station</th>\n",
       "      <th>code_postal</th>\n",
       "      <th>type_station</th>\n",
       "      <th>latitude</th>\n",
       "      <th>longitude</th>\n",
       "      <th>date_releve</th>\n",
       "      <th>type_carburant</th>\n",
       "      <th>libelle_carburant</th>\n",
       "      <th>prix</th>\n",
       "    </tr>\n",
       "  </thead>\n",
       "  <tbody>\n",
       "    <tr>\n",
       "      <th>0</th>\n",
       "      <td>1000001</td>\n",
       "      <td>01000</td>\n",
       "      <td>R</td>\n",
       "      <td>4620114.0</td>\n",
       "      <td>519791.0</td>\n",
       "      <td>2014-01-02 11:08:03</td>\n",
       "      <td>1.0</td>\n",
       "      <td>Gazole</td>\n",
       "      <td>1304.0</td>\n",
       "    </tr>\n",
       "    <tr>\n",
       "      <th>1</th>\n",
       "      <td>1000001</td>\n",
       "      <td>01000</td>\n",
       "      <td>R</td>\n",
       "      <td>4620114.0</td>\n",
       "      <td>519791.0</td>\n",
       "      <td>2014-01-04 09:54:03</td>\n",
       "      <td>1.0</td>\n",
       "      <td>Gazole</td>\n",
       "      <td>1304.0</td>\n",
       "    </tr>\n",
       "    <tr>\n",
       "      <th>2</th>\n",
       "      <td>1000001</td>\n",
       "      <td>01000</td>\n",
       "      <td>R</td>\n",
       "      <td>4620114.0</td>\n",
       "      <td>519791.0</td>\n",
       "      <td>2014-01-05 10:27:09</td>\n",
       "      <td>1.0</td>\n",
       "      <td>Gazole</td>\n",
       "      <td>1304.0</td>\n",
       "    </tr>\n",
       "    <tr>\n",
       "      <th>3</th>\n",
       "      <td>1000001</td>\n",
       "      <td>01000</td>\n",
       "      <td>R</td>\n",
       "      <td>4620114.0</td>\n",
       "      <td>519791.0</td>\n",
       "      <td>2014-01-06 09:07:51</td>\n",
       "      <td>1.0</td>\n",
       "      <td>Gazole</td>\n",
       "      <td>1304.0</td>\n",
       "    </tr>\n",
       "    <tr>\n",
       "      <th>4</th>\n",
       "      <td>1000001</td>\n",
       "      <td>01000</td>\n",
       "      <td>R</td>\n",
       "      <td>4620114.0</td>\n",
       "      <td>519791.0</td>\n",
       "      <td>2014-01-07 09:23:56</td>\n",
       "      <td>1.0</td>\n",
       "      <td>Gazole</td>\n",
       "      <td>1304.0</td>\n",
       "    </tr>\n",
       "  </tbody>\n",
       "</table>\n",
       "</div>"
      ],
      "text/plain": [
       "   id_station code_postal type_station   latitude  longitude  \\\n",
       "0     1000001       01000            R  4620114.0   519791.0   \n",
       "1     1000001       01000            R  4620114.0   519791.0   \n",
       "2     1000001       01000            R  4620114.0   519791.0   \n",
       "3     1000001       01000            R  4620114.0   519791.0   \n",
       "4     1000001       01000            R  4620114.0   519791.0   \n",
       "\n",
       "          date_releve  type_carburant libelle_carburant    prix  \n",
       "0 2014-01-02 11:08:03             1.0            Gazole  1304.0  \n",
       "1 2014-01-04 09:54:03             1.0            Gazole  1304.0  \n",
       "2 2014-01-05 10:27:09             1.0            Gazole  1304.0  \n",
       "3 2014-01-06 09:07:51             1.0            Gazole  1304.0  \n",
       "4 2014-01-07 09:23:56             1.0            Gazole  1304.0  "
      ]
     },
     "execution_count": 7,
     "metadata": {},
     "output_type": "execute_result"
    }
   ],
   "source": [
    "dfall['date_releve'] = pd.to_datetime(dfall.date_releve)\n",
    "dfall.head()"
   ]
  },
  {
   "cell_type": "code",
   "execution_count": 8,
   "metadata": {},
   "outputs": [
    {
     "data": {
      "text/html": [
       "<div>\n",
       "<style>\n",
       "    .dataframe thead tr:only-child th {\n",
       "        text-align: right;\n",
       "    }\n",
       "\n",
       "    .dataframe thead th {\n",
       "        text-align: left;\n",
       "    }\n",
       "\n",
       "    .dataframe tbody tr th {\n",
       "        vertical-align: top;\n",
       "    }\n",
       "</style>\n",
       "<table border=\"1\" class=\"dataframe\">\n",
       "  <thead>\n",
       "    <tr style=\"text-align: right;\">\n",
       "      <th></th>\n",
       "      <th>id_stations</th>\n",
       "      <th>code_postal</th>\n",
       "      <th>type_station</th>\n",
       "      <th>latitude</th>\n",
       "      <th>longitude</th>\n",
       "      <th>adresse</th>\n",
       "      <th>ville</th>\n",
       "    </tr>\n",
       "  </thead>\n",
       "  <tbody>\n",
       "    <tr>\n",
       "      <th>0</th>\n",
       "      <td>1000001</td>\n",
       "      <td>01000</td>\n",
       "      <td>R</td>\n",
       "      <td>4.620114e+06</td>\n",
       "      <td>519791.000000</td>\n",
       "      <td>596 AVENUE DE TREVOUX</td>\n",
       "      <td>SAINT-DENIS-LèS-BOURG</td>\n",
       "    </tr>\n",
       "    <tr>\n",
       "      <th>1</th>\n",
       "      <td>1000002</td>\n",
       "      <td>01000</td>\n",
       "      <td>R</td>\n",
       "      <td>4.621842e+06</td>\n",
       "      <td>522767.000000</td>\n",
       "      <td>16 Avenue de Marboz</td>\n",
       "      <td>BOURG-EN-BRESSE</td>\n",
       "    </tr>\n",
       "    <tr>\n",
       "      <th>2</th>\n",
       "      <td>1000004</td>\n",
       "      <td>01000</td>\n",
       "      <td>R</td>\n",
       "      <td>4.618836e+06</td>\n",
       "      <td>524447.000000</td>\n",
       "      <td>20 Avenue du Maréchal Juin</td>\n",
       "      <td>Bourg-en-Bresse</td>\n",
       "    </tr>\n",
       "    <tr>\n",
       "      <th>3</th>\n",
       "      <td>1000005</td>\n",
       "      <td>01000</td>\n",
       "      <td>R</td>\n",
       "      <td>4.620094e+06</td>\n",
       "      <td>519942.024022</td>\n",
       "      <td>642 Avenue de Trévoux</td>\n",
       "      <td>SAINT-DENIS-LèS-BOURG</td>\n",
       "    </tr>\n",
       "    <tr>\n",
       "      <th>4</th>\n",
       "      <td>1000006</td>\n",
       "      <td>01000</td>\n",
       "      <td>R</td>\n",
       "      <td>4.620754e+06</td>\n",
       "      <td>523758.000000</td>\n",
       "      <td>1 Boulevard John Kennedy</td>\n",
       "      <td>BOURG-EN-BRESSE</td>\n",
       "    </tr>\n",
       "  </tbody>\n",
       "</table>\n",
       "</div>"
      ],
      "text/plain": [
       "   id_stations code_postal type_station      latitude      longitude  \\\n",
       "0      1000001       01000            R  4.620114e+06  519791.000000   \n",
       "1      1000002       01000            R  4.621842e+06  522767.000000   \n",
       "2      1000004       01000            R  4.618836e+06  524447.000000   \n",
       "3      1000005       01000            R  4.620094e+06  519942.024022   \n",
       "4      1000006       01000            R  4.620754e+06  523758.000000   \n",
       "\n",
       "                      adresse                  ville  \n",
       "0       596 AVENUE DE TREVOUX  SAINT-DENIS-LèS-BOURG  \n",
       "1         16 Avenue de Marboz        BOURG-EN-BRESSE  \n",
       "2  20 Avenue du Maréchal Juin        Bourg-en-Bresse  \n",
       "3       642 Avenue de Trévoux  SAINT-DENIS-LèS-BOURG  \n",
       "4    1 Boulevard John Kennedy        BOURG-EN-BRESSE  "
      ]
     },
     "execution_count": 8,
     "metadata": {},
     "output_type": "execute_result"
    }
   ],
   "source": [
    "df_stations = pd.read_csv(os.path.join(DATA_DIR,station_files),sep=\"|\",\n",
    "                          encoding='utf-8',\n",
    "                          header = None,\n",
    "                          dtype = {1:str})\n",
    "df_stations.columns= ['id_stations','code_postal','type_station','latitude','longitude','adresse','ville']\n",
    "df_stations.head()"
   ]
  },
  {
   "cell_type": "code",
   "execution_count": 9,
   "metadata": {},
   "outputs": [
    {
     "data": {
      "text/html": [
       "<div>\n",
       "<style>\n",
       "    .dataframe thead tr:only-child th {\n",
       "        text-align: right;\n",
       "    }\n",
       "\n",
       "    .dataframe thead th {\n",
       "        text-align: left;\n",
       "    }\n",
       "\n",
       "    .dataframe tbody tr th {\n",
       "        vertical-align: top;\n",
       "    }\n",
       "</style>\n",
       "<table border=\"1\" class=\"dataframe\">\n",
       "  <thead>\n",
       "    <tr style=\"text-align: right;\">\n",
       "      <th></th>\n",
       "      <th>id_station</th>\n",
       "      <th>code_postal</th>\n",
       "      <th>type_station</th>\n",
       "      <th>latitude</th>\n",
       "      <th>longitude</th>\n",
       "      <th>services</th>\n",
       "    </tr>\n",
       "  </thead>\n",
       "  <tbody>\n",
       "    <tr>\n",
       "      <th>0</th>\n",
       "      <td>1000001</td>\n",
       "      <td>01000</td>\n",
       "      <td>R</td>\n",
       "      <td>4.620114e+06</td>\n",
       "      <td>519791.000000</td>\n",
       "      <td>Station de gonflage,Vente de gaz domestique,Au...</td>\n",
       "    </tr>\n",
       "    <tr>\n",
       "      <th>1</th>\n",
       "      <td>1000002</td>\n",
       "      <td>01000</td>\n",
       "      <td>R</td>\n",
       "      <td>4.621842e+06</td>\n",
       "      <td>522767.000000</td>\n",
       "      <td>Vente de gaz domestique,Automate CB</td>\n",
       "    </tr>\n",
       "    <tr>\n",
       "      <th>2</th>\n",
       "      <td>1000004</td>\n",
       "      <td>01000</td>\n",
       "      <td>R</td>\n",
       "      <td>4.618836e+06</td>\n",
       "      <td>524447.000000</td>\n",
       "      <td>Carburant qualité supérieure,GPL,Toilettes pub...</td>\n",
       "    </tr>\n",
       "    <tr>\n",
       "      <th>3</th>\n",
       "      <td>1000005</td>\n",
       "      <td>01000</td>\n",
       "      <td>R</td>\n",
       "      <td>4.620094e+06</td>\n",
       "      <td>519942.024022</td>\n",
       "      <td>Carburant qualité supérieure,Station de lavage...</td>\n",
       "    </tr>\n",
       "    <tr>\n",
       "      <th>4</th>\n",
       "      <td>1000006</td>\n",
       "      <td>01000</td>\n",
       "      <td>R</td>\n",
       "      <td>4.620754e+06</td>\n",
       "      <td>523758.000000</td>\n",
       "      <td>Vente de gaz domestique</td>\n",
       "    </tr>\n",
       "  </tbody>\n",
       "</table>\n",
       "</div>"
      ],
      "text/plain": [
       "   id_station code_postal type_station      latitude      longitude  \\\n",
       "0     1000001       01000            R  4.620114e+06  519791.000000   \n",
       "1     1000002       01000            R  4.621842e+06  522767.000000   \n",
       "2     1000004       01000            R  4.618836e+06  524447.000000   \n",
       "3     1000005       01000            R  4.620094e+06  519942.024022   \n",
       "4     1000006       01000            R  4.620754e+06  523758.000000   \n",
       "\n",
       "                                            services  \n",
       "0  Station de gonflage,Vente de gaz domestique,Au...  \n",
       "1                Vente de gaz domestique,Automate CB  \n",
       "2  Carburant qualité supérieure,GPL,Toilettes pub...  \n",
       "3  Carburant qualité supérieure,Station de lavage...  \n",
       "4                            Vente de gaz domestique  "
      ]
     },
     "execution_count": 9,
     "metadata": {},
     "output_type": "execute_result"
    }
   ],
   "source": [
    "df_services = pd.read_csv(os.path.join(DATA_DIR,service_files),sep=\"|\",\n",
    "                          encoding='utf-8',\n",
    "                          header = None,\n",
    "                          dtype = {1:str})\n",
    "df_services.columns= ['id_station','code_postal','type_station','latitude','longitude','services']\n",
    "df_services.head()"
   ]
  },
  {
   "cell_type": "code",
   "execution_count": 10,
   "metadata": {
    "collapsed": true
   },
   "outputs": [],
   "source": [
    "dfall.to_pickle(os.path.join(DATA_DIR, PRICE_FILE))\n",
    "df_stations.to_pickle(os.path.join(DATA_DIR, STATION_FILE))\n",
    "df_services.to_pickle(os.path.join(DATA_DIR, SERVICE_FILE))"
   ]
  },
  {
   "cell_type": "markdown",
   "metadata": {},
   "source": [
    "### FIN DU SCRIPT DE CHARGEMENT"
   ]
  },
  {
   "cell_type": "code",
   "execution_count": null,
   "metadata": {
    "collapsed": true
   },
   "outputs": [],
   "source": [
    "#transformation de la table en une base de donnée SQL\n",
    "\n",
    "cnx = sqlite3.connect(GAS_DB)\n",
    "dfall.to_sql('prices',cnx,index=False,if_exists='replace')\n",
    "df_services.to_sql('services', cnx, index = False,if_exists='replace')\n",
    "df_stations.to_sql('stations', cnx,index=False,if_exists='replace')\n",
    "\n"
   ]
  },
  {
   "cell_type": "code",
   "execution_count": null,
   "metadata": {
    "collapsed": true
   },
   "outputs": [],
   "source": [
    "cur = cnx.cursor()"
   ]
  },
  {
   "cell_type": "code",
   "execution_count": null,
   "metadata": {
    "collapsed": true
   },
   "outputs": [],
   "source": [
    "#création d'un curseur pour faire des requetes SQL\n",
    "#On récupère le résultat de la requête dans res\n",
    "cur.execute('SELECT * FROM prices where prix > 1400')\n",
    "res = cur.fetchall()"
   ]
  },
  {
   "cell_type": "code",
   "execution_count": null,
   "metadata": {
    "collapsed": true
   },
   "outputs": [],
   "source": [
    "#solution plus rapide pour un dataframe\n",
    "res_df=pd.read_sql_query(\"SELECT * FROM prices where prix>1400\",cnx)"
   ]
  },
  {
   "cell_type": "code",
   "execution_count": null,
   "metadata": {
    "collapsed": true
   },
   "outputs": [],
   "source": [
    "res_df.head()"
   ]
  },
  {
   "cell_type": "code",
   "execution_count": null,
   "metadata": {
    "collapsed": true
   },
   "outputs": [],
   "source": [
    "dfall.head()"
   ]
  },
  {
   "cell_type": "code",
   "execution_count": null,
   "metadata": {
    "collapsed": true
   },
   "outputs": [],
   "source": [
    "#le .dt permet d'appeler les fonctions datetime sur la liste\n",
    "dfall.date_releve.dt.week.head()"
   ]
  },
  {
   "cell_type": "code",
   "execution_count": null,
   "metadata": {
    "collapsed": true
   },
   "outputs": [],
   "source": [
    "#Si on est en 2014, la semaine 51 sera la semaine 51 mais si on est en 2015 \n",
    "#On aura 51+52*1, on prendra les années en comptes\n",
    "dfall['semaine'] =  dfall.date_releve.dt.week + 52* (dfall.date_releve.dt.year-2014)"
   ]
  },
  {
   "cell_type": "code",
   "execution_count": null,
   "metadata": {
    "collapsed": true
   },
   "outputs": [],
   "source": [
    "#On repère qu'il y a une erreur en 2016, il y avait 53 semaines en 2016\n",
    "dfall[dfall.date_releve.dt.year==2016].date_releve.dt.week.max()"
   ]
  },
  {
   "cell_type": "code",
   "execution_count": null,
   "metadata": {
    "collapsed": true
   },
   "outputs": [],
   "source": [
    "dfall.groupby(['libelle_carburant','semaine']).agg({'prix':[np.mean,min,max]}).head()"
   ]
  },
  {
   "cell_type": "code",
   "execution_count": null,
   "metadata": {
    "collapsed": true
   },
   "outputs": [],
   "source": [
    "moyenne_hebdo_df =( dfall\n",
    "                   .dropna(subset=['date_releve'])\n",
    "                   .groupby(['libelle_carburant',pd.Grouper(key='date_releve',freq='2W-MON')])\n",
    "                   .agg({'prix':[np.mean]})\n",
    "                   .reset_index())"
   ]
  },
  {
   "cell_type": "code",
   "execution_count": null,
   "metadata": {
    "collapsed": true
   },
   "outputs": [],
   "source": [
    "moyenne_hebdo_df.head()"
   ]
  },
  {
   "cell_type": "code",
   "execution_count": null,
   "metadata": {
    "collapsed": true
   },
   "outputs": [],
   "source": [
    "import matplotlib.pyplot as plt\n",
    "import seaborn as sns\n",
    "%matplotlib inline "
   ]
  },
  {
   "cell_type": "code",
   "execution_count": null,
   "metadata": {
    "collapsed": true
   },
   "outputs": [],
   "source": [
    "graph  = sns.FacetGrid(moyenne_hebdo_df,hue='libelle_carburant',size=8,aspect=16/9)\n",
    "graph.map(plt.plot,\"date_releve\",\"prix\")\n",
    "graph.add_legend()"
   ]
  },
  {
   "cell_type": "markdown",
   "metadata": {},
   "source": [
    "# MODELISATION"
   ]
  },
  {
   "cell_type": "code",
   "execution_count": null,
   "metadata": {
    "collapsed": true
   },
   "outputs": [],
   "source": [
    "df_services.services.str.split(',').head()"
   ]
  },
  {
   "cell_type": "code",
   "execution_count": null,
   "metadata": {
    "collapsed": true
   },
   "outputs": [],
   "source": [
    "df_services['listes_services']=df_services.services.str.split(',')"
   ]
  },
  {
   "cell_type": "code",
   "execution_count": null,
   "metadata": {
    "collapsed": true
   },
   "outputs": [],
   "source": [
    "_tokenize = lambda x: x.split(',')"
   ]
  },
  {
   "cell_type": "code",
   "execution_count": null,
   "metadata": {
    "collapsed": true
   },
   "outputs": [],
   "source": [
    "vectorize = CountVectorizer(tokenizer = _tokenize, lowercase=False)"
   ]
  },
  {
   "cell_type": "code",
   "execution_count": null,
   "metadata": {
    "collapsed": true
   },
   "outputs": [],
   "source": [
    "#remplacement des valeurs manquantes pour éviter les erreurs\n",
    "vectorize.fit_transform(df_services.services.fillna('Rien'))"
   ]
  },
  {
   "cell_type": "code",
   "execution_count": null,
   "metadata": {
    "collapsed": true
   },
   "outputs": [],
   "source": [
    "vectorize.vocabulary_"
   ]
  },
  {
   "cell_type": "markdown",
   "metadata": {},
   "source": []
  }
 ],
 "metadata": {
  "kernelspec": {
   "display_name": "Python 3",
   "language": "python",
   "name": "python3"
  },
  "language_info": {
   "codemirror_mode": {
    "name": "ipython",
    "version": 3
   },
   "file_extension": ".py",
   "mimetype": "text/x-python",
   "name": "python",
   "nbconvert_exporter": "python",
   "pygments_lexer": "ipython3",
   "version": "3.6.3"
  }
 },
 "nbformat": 4,
 "nbformat_minor": 2
}
